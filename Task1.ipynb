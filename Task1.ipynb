{
 "cells": [
  {
   "cell_type": "code",
   "execution_count": 1,
   "id": "534dee18",
   "metadata": {},
   "outputs": [],
   "source": [
    "#import necessary libraries\n",
    "import pandas as pd\n",
    "import matplotlib.pyplot as plt"
   ]
  },
  {
   "cell_type": "code",
   "execution_count": 2,
   "id": "36a08583",
   "metadata": {},
   "outputs": [
    {
     "name": "stdout",
     "output_type": "stream",
     "text": [
      "                  Country Name Country Code     Indicator Name Indicator Code  \\\n",
      "0                        Aruba          ABW  Population, total    SP.POP.TOTL   \n",
      "1  Africa Eastern and Southern          AFE  Population, total    SP.POP.TOTL   \n",
      "2                  Afghanistan          AFG  Population, total    SP.POP.TOTL   \n",
      "3   Africa Western and Central          AFW  Population, total    SP.POP.TOTL   \n",
      "4                       Angola          AGO  Population, total    SP.POP.TOTL   \n",
      "\n",
      "          1960         1961         1962         1963         1964  \\\n",
      "0      54608.0      55811.0      56682.0      57475.0      58178.0   \n",
      "1  130692579.0  134169237.0  137835590.0  141630546.0  145605995.0   \n",
      "2    8622466.0    8790140.0    8969047.0    9157465.0    9355514.0   \n",
      "3   97256290.0   99314028.0  101445032.0  103667517.0  105959979.0   \n",
      "4    5357195.0    5441333.0    5521400.0    5599827.0    5673199.0   \n",
      "\n",
      "          1965  ...         2015         2016         2017         2018  \\\n",
      "0      58782.0  ...     104257.0     104874.0     105439.0     105962.0   \n",
      "1  149742351.0  ...  600008424.0  616377605.0  632746570.0  649757148.0   \n",
      "2    9565147.0  ...   33753499.0   34636207.0   35643418.0   36686784.0   \n",
      "3  108336203.0  ...  408690375.0  419778384.0  431138704.0  442646825.0   \n",
      "4    5736582.0  ...   28127721.0   29154746.0   30208628.0   31273533.0   \n",
      "\n",
      "          2019         2020         2021         2022  2023  Unnamed: 68  \n",
      "0     106442.0     106585.0     106537.0     106445.0   NaN          NaN  \n",
      "1  667242986.0  685112979.0  702977106.0  720859132.0   NaN          NaN  \n",
      "2   37769499.0   38972230.0   40099462.0   41128771.0   NaN          NaN  \n",
      "3  454306063.0  466189102.0  478185907.0  490330870.0   NaN          NaN  \n",
      "4   32353588.0   33428486.0   34503774.0   35588987.0   NaN          NaN  \n",
      "\n",
      "[5 rows x 69 columns]\n"
     ]
    }
   ],
   "source": [
    "file_path = \"API_SP.POP.TOTL_DS2_en_csv_v2_300577.csv\"\n",
    "data = pd.read_csv(file_path, skiprows=4)\n",
    "print(data.head())"
   ]
  },
  {
   "cell_type": "code",
   "execution_count": 3,
   "id": "f6aca09c",
   "metadata": {},
   "outputs": [
    {
     "name": "stdout",
     "output_type": "stream",
     "text": [
      "Unique Country Names:\n",
      " ['Aruba' 'Africa Eastern and Southern' 'Afghanistan'\n",
      " 'Africa Western and Central' 'Angola' 'Albania' 'Andorra' 'Arab World'\n",
      " 'United Arab Emirates' 'Argentina' 'Armenia' 'American Samoa'\n",
      " 'Antigua and Barbuda' 'Australia' 'Austria' 'Azerbaijan' 'Burundi'\n",
      " 'Belgium' 'Benin' 'Burkina Faso' 'Bangladesh' 'Bulgaria' 'Bahrain'\n",
      " 'Bahamas, The' 'Bosnia and Herzegovina' 'Belarus' 'Belize' 'Bermuda'\n",
      " 'Bolivia' 'Brazil' 'Barbados' 'Brunei Darussalam' 'Bhutan' 'Botswana'\n",
      " 'Central African Republic' 'Canada' 'Central Europe and the Baltics'\n",
      " 'Switzerland' 'Channel Islands' 'Chile' 'China' \"Cote d'Ivoire\"\n",
      " 'Cameroon' 'Congo, Dem. Rep.' 'Congo, Rep.' 'Colombia' 'Comoros'\n",
      " 'Cabo Verde' 'Costa Rica' 'Caribbean small states' 'Cuba' 'Curacao'\n",
      " 'Cayman Islands' 'Cyprus' 'Czechia' 'Germany' 'Djibouti' 'Dominica'\n",
      " 'Denmark' 'Dominican Republic' 'Algeria'\n",
      " 'East Asia & Pacific (excluding high income)'\n",
      " 'Early-demographic dividend' 'East Asia & Pacific'\n",
      " 'Europe & Central Asia (excluding high income)' 'Europe & Central Asia'\n",
      " 'Ecuador' 'Egypt, Arab Rep.' 'Euro area' 'Eritrea' 'Spain' 'Estonia'\n",
      " 'Ethiopia' 'European Union' 'Fragile and conflict affected situations'\n",
      " 'Finland' 'Fiji' 'France' 'Faroe Islands' 'Micronesia, Fed. Sts.' 'Gabon'\n",
      " 'United Kingdom' 'Georgia' 'Ghana' 'Gibraltar' 'Guinea' 'Gambia, The'\n",
      " 'Guinea-Bissau' 'Equatorial Guinea' 'Greece' 'Grenada' 'Greenland'\n",
      " 'Guatemala' 'Guam' 'Guyana' 'High income' 'Hong Kong SAR, China'\n",
      " 'Honduras' 'Heavily indebted poor countries (HIPC)' 'Croatia' 'Haiti'\n",
      " 'Hungary' 'IBRD only' 'IDA & IBRD total' 'IDA total' 'IDA blend'\n",
      " 'Indonesia' 'IDA only' 'Isle of Man' 'India' 'Not classified' 'Ireland'\n",
      " 'Iran, Islamic Rep.' 'Iraq' 'Iceland' 'Israel' 'Italy' 'Jamaica' 'Jordan'\n",
      " 'Japan' 'Kazakhstan' 'Kenya' 'Kyrgyz Republic' 'Cambodia' 'Kiribati'\n",
      " 'St. Kitts and Nevis' 'Korea, Rep.' 'Kuwait'\n",
      " 'Latin America & Caribbean (excluding high income)' 'Lao PDR' 'Lebanon'\n",
      " 'Liberia' 'Libya' 'St. Lucia' 'Latin America & Caribbean'\n",
      " 'Least developed countries: UN classification' 'Low income'\n",
      " 'Liechtenstein' 'Sri Lanka' 'Lower middle income' 'Low & middle income'\n",
      " 'Lesotho' 'Late-demographic dividend' 'Lithuania' 'Luxembourg' 'Latvia'\n",
      " 'Macao SAR, China' 'St. Martin (French part)' 'Morocco' 'Monaco'\n",
      " 'Moldova' 'Madagascar' 'Maldives' 'Middle East & North Africa' 'Mexico'\n",
      " 'Marshall Islands' 'Middle income' 'North Macedonia' 'Mali' 'Malta'\n",
      " 'Myanmar' 'Middle East & North Africa (excluding high income)'\n",
      " 'Montenegro' 'Mongolia' 'Northern Mariana Islands' 'Mozambique'\n",
      " 'Mauritania' 'Mauritius' 'Malawi' 'Malaysia' 'North America' 'Namibia'\n",
      " 'New Caledonia' 'Niger' 'Nigeria' 'Nicaragua' 'Netherlands' 'Norway'\n",
      " 'Nepal' 'Nauru' 'New Zealand' 'OECD members' 'Oman' 'Other small states'\n",
      " 'Pakistan' 'Panama' 'Peru' 'Philippines' 'Palau' 'Papua New Guinea'\n",
      " 'Poland' 'Pre-demographic dividend' 'Puerto Rico'\n",
      " \"Korea, Dem. People's Rep.\" 'Portugal' 'Paraguay' 'West Bank and Gaza'\n",
      " 'Pacific island small states' 'Post-demographic dividend'\n",
      " 'French Polynesia' 'Qatar' 'Romania' 'Russian Federation' 'Rwanda'\n",
      " 'South Asia' 'Saudi Arabia' 'Sudan' 'Senegal' 'Singapore'\n",
      " 'Solomon Islands' 'Sierra Leone' 'El Salvador' 'San Marino' 'Somalia'\n",
      " 'Serbia' 'Sub-Saharan Africa (excluding high income)' 'South Sudan'\n",
      " 'Sub-Saharan Africa' 'Small states' 'Sao Tome and Principe' 'Suriname'\n",
      " 'Slovak Republic' 'Slovenia' 'Sweden' 'Eswatini'\n",
      " 'Sint Maarten (Dutch part)' 'Seychelles' 'Syrian Arab Republic'\n",
      " 'Turks and Caicos Islands' 'Chad'\n",
      " 'East Asia & Pacific (IDA & IBRD countries)'\n",
      " 'Europe & Central Asia (IDA & IBRD countries)' 'Togo' 'Thailand'\n",
      " 'Tajikistan' 'Turkmenistan'\n",
      " 'Latin America & the Caribbean (IDA & IBRD countries)' 'Timor-Leste'\n",
      " 'Middle East & North Africa (IDA & IBRD countries)' 'Tonga'\n",
      " 'South Asia (IDA & IBRD)' 'Sub-Saharan Africa (IDA & IBRD countries)'\n",
      " 'Trinidad and Tobago' 'Tunisia' 'Turkiye' 'Tuvalu' 'Tanzania' 'Uganda'\n",
      " 'Ukraine' 'Upper middle income' 'Uruguay' 'United States' 'Uzbekistan'\n",
      " 'St. Vincent and the Grenadines' 'Venezuela, RB' 'British Virgin Islands'\n",
      " 'Virgin Islands (U.S.)' 'Viet Nam' 'Vanuatu' 'World' 'Samoa' 'Kosovo'\n",
      " 'Yemen, Rep.' 'South Africa' 'Zambia' 'Zimbabwe']\n",
      "Unique Indicator Names:\n",
      " ['Population, total']\n"
     ]
    }
   ],
   "source": [
    "print(\"Unique Country Names:\\n\", data['Country Name'].unique())\n",
    "\n",
    "print(\"Unique Indicator Names:\\n\", data['Indicator Name'].unique())"
   ]
  },
  {
   "cell_type": "code",
   "execution_count": 11,
   "id": "fccbdba6",
   "metadata": {},
   "outputs": [],
   "source": [
    "#specific indicator\n",
    "country_name = 'India'  \n",
    "indicator_name = 'Population, total'  "
   ]
  },
  {
   "cell_type": "code",
   "execution_count": 12,
   "id": "9dde7f69",
   "metadata": {},
   "outputs": [
    {
     "name": "stdout",
     "output_type": "stream",
     "text": [
      "    Country Name Country Code     Indicator Name Indicator Code         1960  \\\n",
      "109        India          IND  Population, total    SP.POP.TOTL  445954579.0   \n",
      "\n",
      "            1961         1962         1963         1964         1965  ...  \\\n",
      "109  456351876.0  467024193.0  477933619.0  489059309.0  500114346.0  ...   \n",
      "\n",
      "             2015          2016          2017          2018          2019  \\\n",
      "109  1.322867e+09  1.338636e+09  1.354196e+09  1.369003e+09  1.383112e+09   \n",
      "\n",
      "             2020          2021          2022  2023  Unnamed: 68  \n",
      "109  1.396387e+09  1.407564e+09  1.417173e+09   NaN          NaN  \n",
      "\n",
      "[1 rows x 69 columns]\n"
     ]
    }
   ],
   "source": [
    "#filter the data for specific country and indicator\n",
    "filtered_data = data[(data['Country Name'] == country_name) & (data['Indicator Name'] == indicator_name)]\n",
    "\n",
    "print(filtered_data)"
   ]
  },
  {
   "cell_type": "code",
   "execution_count": 13,
   "id": "01576f9f",
   "metadata": {},
   "outputs": [
    {
     "name": "stdout",
     "output_type": "stream",
     "text": [
      "   Country Name Country Code     Indicator Name Indicator Code         Year  \\\n",
      "0         India          IND  Population, total    SP.POP.TOTL         1960   \n",
      "1         India          IND  Population, total    SP.POP.TOTL         1961   \n",
      "2         India          IND  Population, total    SP.POP.TOTL         1962   \n",
      "3         India          IND  Population, total    SP.POP.TOTL         1963   \n",
      "4         India          IND  Population, total    SP.POP.TOTL         1964   \n",
      "..          ...          ...                ...            ...          ...   \n",
      "60        India          IND  Population, total    SP.POP.TOTL         2020   \n",
      "61        India          IND  Population, total    SP.POP.TOTL         2021   \n",
      "62        India          IND  Population, total    SP.POP.TOTL         2022   \n",
      "63        India          IND  Population, total    SP.POP.TOTL         2023   \n",
      "64        India          IND  Population, total    SP.POP.TOTL  Unnamed: 68   \n",
      "\n",
      "           Value  \n",
      "0   4.459546e+08  \n",
      "1   4.563519e+08  \n",
      "2   4.670242e+08  \n",
      "3   4.779336e+08  \n",
      "4   4.890593e+08  \n",
      "..           ...  \n",
      "60  1.396387e+09  \n",
      "61  1.407564e+09  \n",
      "62  1.417173e+09  \n",
      "63           NaN  \n",
      "64           NaN  \n",
      "\n",
      "[65 rows x 6 columns]\n"
     ]
    }
   ],
   "source": [
    "#melt dataframe to get year as a seperate column\n",
    "melted_data = filtered_data.melt(id_vars=['Country Name', 'Country Code', 'Indicator Name', 'Indicator Code'], \n",
    "                                 var_name='Year', value_name='Value')\n",
    "\n",
    "print(melted_data)\n"
   ]
  },
  {
   "cell_type": "code",
   "execution_count": 14,
   "id": "a48b8dde",
   "metadata": {},
   "outputs": [
    {
     "name": "stdout",
     "output_type": "stream",
     "text": [
      "   Country Name Country Code     Indicator Name Indicator Code    Year  \\\n",
      "0         India          IND  Population, total    SP.POP.TOTL  1960.0   \n",
      "1         India          IND  Population, total    SP.POP.TOTL  1961.0   \n",
      "2         India          IND  Population, total    SP.POP.TOTL  1962.0   \n",
      "3         India          IND  Population, total    SP.POP.TOTL  1963.0   \n",
      "4         India          IND  Population, total    SP.POP.TOTL  1964.0   \n",
      "..          ...          ...                ...            ...     ...   \n",
      "60        India          IND  Population, total    SP.POP.TOTL  2020.0   \n",
      "61        India          IND  Population, total    SP.POP.TOTL  2021.0   \n",
      "62        India          IND  Population, total    SP.POP.TOTL  2022.0   \n",
      "63        India          IND  Population, total    SP.POP.TOTL  2023.0   \n",
      "64        India          IND  Population, total    SP.POP.TOTL     NaN   \n",
      "\n",
      "           Value  \n",
      "0   4.459546e+08  \n",
      "1   4.563519e+08  \n",
      "2   4.670242e+08  \n",
      "3   4.779336e+08  \n",
      "4   4.890593e+08  \n",
      "..           ...  \n",
      "60  1.396387e+09  \n",
      "61  1.407564e+09  \n",
      "62  1.417173e+09  \n",
      "63           NaN  \n",
      "64           NaN  \n",
      "\n",
      "[65 rows x 6 columns]\n"
     ]
    }
   ],
   "source": [
    "#convert year column to numeric\n",
    "melted_data['Year'] = pd.to_numeric(melted_data['Year'], errors='coerce')\n",
    "\n",
    "print(melted_data)"
   ]
  },
  {
   "cell_type": "code",
   "execution_count": 15,
   "id": "1c0a022f",
   "metadata": {},
   "outputs": [
    {
     "name": "stdout",
     "output_type": "stream",
     "text": [
      "   Country Name Country Code     Indicator Name Indicator Code    Year  \\\n",
      "0         India          IND  Population, total    SP.POP.TOTL  1960.0   \n",
      "1         India          IND  Population, total    SP.POP.TOTL  1961.0   \n",
      "2         India          IND  Population, total    SP.POP.TOTL  1962.0   \n",
      "3         India          IND  Population, total    SP.POP.TOTL  1963.0   \n",
      "4         India          IND  Population, total    SP.POP.TOTL  1964.0   \n",
      "..          ...          ...                ...            ...     ...   \n",
      "58        India          IND  Population, total    SP.POP.TOTL  2018.0   \n",
      "59        India          IND  Population, total    SP.POP.TOTL  2019.0   \n",
      "60        India          IND  Population, total    SP.POP.TOTL  2020.0   \n",
      "61        India          IND  Population, total    SP.POP.TOTL  2021.0   \n",
      "62        India          IND  Population, total    SP.POP.TOTL  2022.0   \n",
      "\n",
      "           Value  \n",
      "0   4.459546e+08  \n",
      "1   4.563519e+08  \n",
      "2   4.670242e+08  \n",
      "3   4.779336e+08  \n",
      "4   4.890593e+08  \n",
      "..           ...  \n",
      "58  1.369003e+09  \n",
      "59  1.383112e+09  \n",
      "60  1.396387e+09  \n",
      "61  1.407564e+09  \n",
      "62  1.417173e+09  \n",
      "\n",
      "[63 rows x 6 columns]\n"
     ]
    }
   ],
   "source": [
    "#melted data to drop NaN\n",
    "melted_data.dropna(subset=['Year', 'Value'], inplace=True)\n",
    "\n",
    "print(melted_data)"
   ]
  },
  {
   "cell_type": "code",
   "execution_count": 16,
   "id": "495f88e7",
   "metadata": {},
   "outputs": [
    {
     "data": {
      "image/png": "[encoded data removed]",
      "text/plain": [
       "<Figure size 1200x600 with 1 Axes>"
      ]
     },
     "metadata": {},
     "output_type": "display_data"
    }
   ],
   "source": [
    "#Plot the figure\n",
    "plt.figure(figsize=(12, 6))\n",
    "plt.bar(melted_data['Year'], melted_data['Value'])\n",
    "plt.xlabel('Year')\n",
    "plt.ylabel(indicator_name)\n",
    "plt.title(f'{indicator_name} in {country_name} Over Time')\n",
    "plt.xticks(rotation=45)\n",
    "plt.show()"
   ]
  },
  {
   "cell_type": "code",
   "execution_count": null,
   "id": "e60890c3",
   "metadata": {},
   "outputs": [],
   "source": []
  },
  {
   "cell_type": "code",
   "execution_count": null,
   "id": "d2356a8b",
   "metadata": {},
   "outputs": [],
   "source": []
  },
  {
   "cell_type": "code",
   "execution_count": null,
   "id": "12b02b9e",
   "metadata": {},
   "outputs": [],
   "source": []
  },
  {
   "cell_type": "code",
   "execution_count": null,
   "id": "6379eb14",
   "metadata": {},
   "outputs": [],
   "source": []
  },
  {
   "cell_type": "code",
   "execution_count": null,
   "id": "3c80a7db",
   "metadata": {},
   "outputs": [],
   "source": []
  }
 ],
 "metadata": {
  "kernelspec": {
   "display_name": "Python 3 (ipykernel)",
   "language": "python",
   "name": "python3"
  },
  "language_info": {
   "codemirror_mode": {
    "name": "ipython",
    "version": 3
   },
   "file_extension": ".py",
   "mimetype": "text/x-python",
   "name": "python",
   "nbconvert_exporter": "python",
   "pygments_lexer": "ipython3",
   "version": "3.9.13"
  }
 },
 "nbformat": 4,
 "nbformat_minor": 5
}
